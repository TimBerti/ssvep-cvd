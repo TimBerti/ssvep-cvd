{
 "cells": [
  {
   "cell_type": "code",
   "execution_count": 1,
   "metadata": {},
   "outputs": [],
   "source": [
    "import pandas as pd\n",
    "import numpy as np\n",
    "import seaborn as sns\n",
    "\n",
    "import re\n",
    "import sys\n",
    "import os\n",
    "sys.path.append(os.path.abspath(os.path.join('..')))\n",
    "import utils.ssvep_analysis as sa"
   ]
  },
  {
   "cell_type": "code",
   "execution_count": 2,
   "metadata": {},
   "outputs": [],
   "source": [
    "def read_data(file_path):\n",
    "    df = pd.read_csv(file_path, skiprows=10, header=None)\n",
    "    with open(file_path, 'r') as file:\n",
    "        content = file.read()\n",
    "    match = re.search(r'Severity:\\s*(\\d+(\\.\\d+)?)', content)\n",
    "    severity = float(match.group(1))\n",
    "    eeg_data = df.to_numpy()[:, 1:9].astype(float)\n",
    "    return eeg_data, severity\n",
    "\n",
    "def preprocess_data(eeg_data):\n",
    "    eeg_data = sa.apply_ransac_detrending(eeg_data)\n",
    "    eeg_data = sa.filter_extreme_values(eeg_data)\n",
    "    eeg_data = sa.apply_highpass_filter(eeg_data)\n",
    "    eeg_data = sa.apply_lowpass_filter(eeg_data)\n",
    "    eeg_data = sa.apply_notch_filter(eeg_data)\n",
    "    return eeg_data\n",
    "\n",
    "def process_file(file_path):\n",
    "    eeg_data, severity = read_data(file_path)\n",
    "    eeg_data = preprocess_data(eeg_data)\n",
    "    cca, _ = sa.compute_cca(eeg_data)\n",
    "    coefs = cca.coef_\n",
    "    coefs = np.sqrt(np.sum(coefs**2, axis=0))\n",
    "    coefs = coefs / np.sqrt(np.sum(coefs**2))\n",
    "    return [severity] + list(coefs)\n",
    "\n",
    "def process_directory(directory_path):\n",
    "    coefs_list = []\n",
    "    for filename in os.listdir(directory_path):\n",
    "        file_path = os.path.join(directory_path, filename)\n",
    "        coefs = process_file(file_path)\n",
    "        coefs_list.append(coefs)\n",
    "    df = pd.DataFrame(coefs_list)\n",
    "    return df\n",
    "\n",
    "def process_directory_list(directory_list):\n",
    "    df_list = []\n",
    "    for directory in directory_list:\n",
    "        df_list.append(process_directory('../data/' + directory))\n",
    "    df = pd.concat(df_list)\n",
    "    return df\n",
    "\n",
    "directory_list = ['2024-01-12', '2024-01-19', '2024-01-22']\n",
    "df = process_directory_list(directory_list)"
   ]
  },
  {
   "cell_type": "code",
   "execution_count": 3,
   "metadata": {},
   "outputs": [
    {
     "name": "stdout",
     "output_type": "stream",
     "text": [
      "(92, 9)\n"
     ]
    },
    {
     "data": {
      "text/html": [
       "<div>\n",
       "<style scoped>\n",
       "    .dataframe tbody tr th:only-of-type {\n",
       "        vertical-align: middle;\n",
       "    }\n",
       "\n",
       "    .dataframe tbody tr th {\n",
       "        vertical-align: top;\n",
       "    }\n",
       "\n",
       "    .dataframe thead th {\n",
       "        text-align: right;\n",
       "    }\n",
       "</style>\n",
       "<table border=\"1\" class=\"dataframe\">\n",
       "  <thead>\n",
       "    <tr style=\"text-align: right;\">\n",
       "      <th></th>\n",
       "      <th>severity</th>\n",
       "      <th>PO7</th>\n",
       "      <th>O1</th>\n",
       "      <th>PO3</th>\n",
       "      <th>Oz</th>\n",
       "      <th>Pz</th>\n",
       "      <th>O2</th>\n",
       "      <th>PO4</th>\n",
       "      <th>PO8</th>\n",
       "    </tr>\n",
       "  </thead>\n",
       "  <tbody>\n",
       "    <tr>\n",
       "      <th>0</th>\n",
       "      <td>0.0</td>\n",
       "      <td>0.017205</td>\n",
       "      <td>0.279611</td>\n",
       "      <td>0.075803</td>\n",
       "      <td>0.381977</td>\n",
       "      <td>0.207975</td>\n",
       "      <td>0.649804</td>\n",
       "      <td>0.056902</td>\n",
       "      <td>0.548755</td>\n",
       "    </tr>\n",
       "    <tr>\n",
       "      <th>1</th>\n",
       "      <td>0.0</td>\n",
       "      <td>0.083040</td>\n",
       "      <td>0.431498</td>\n",
       "      <td>0.575789</td>\n",
       "      <td>0.546744</td>\n",
       "      <td>0.072772</td>\n",
       "      <td>0.121003</td>\n",
       "      <td>0.031586</td>\n",
       "      <td>0.394355</td>\n",
       "    </tr>\n",
       "    <tr>\n",
       "      <th>2</th>\n",
       "      <td>0.0</td>\n",
       "      <td>0.052514</td>\n",
       "      <td>0.285636</td>\n",
       "      <td>0.136554</td>\n",
       "      <td>0.236302</td>\n",
       "      <td>0.434482</td>\n",
       "      <td>0.612042</td>\n",
       "      <td>0.440985</td>\n",
       "      <td>0.288672</td>\n",
       "    </tr>\n",
       "    <tr>\n",
       "      <th>3</th>\n",
       "      <td>0.0</td>\n",
       "      <td>0.050538</td>\n",
       "      <td>0.036801</td>\n",
       "      <td>0.166630</td>\n",
       "      <td>0.466361</td>\n",
       "      <td>0.412826</td>\n",
       "      <td>0.083257</td>\n",
       "      <td>0.485734</td>\n",
       "      <td>0.580981</td>\n",
       "    </tr>\n",
       "    <tr>\n",
       "      <th>4</th>\n",
       "      <td>0.0</td>\n",
       "      <td>0.024546</td>\n",
       "      <td>0.014299</td>\n",
       "      <td>0.232297</td>\n",
       "      <td>0.342260</td>\n",
       "      <td>0.376559</td>\n",
       "      <td>0.726461</td>\n",
       "      <td>0.066202</td>\n",
       "      <td>0.392638</td>\n",
       "    </tr>\n",
       "  </tbody>\n",
       "</table>\n",
       "</div>"
      ],
      "text/plain": [
       "   severity       PO7        O1       PO3        Oz        Pz        O2  \\\n",
       "0       0.0  0.017205  0.279611  0.075803  0.381977  0.207975  0.649804   \n",
       "1       0.0  0.083040  0.431498  0.575789  0.546744  0.072772  0.121003   \n",
       "2       0.0  0.052514  0.285636  0.136554  0.236302  0.434482  0.612042   \n",
       "3       0.0  0.050538  0.036801  0.166630  0.466361  0.412826  0.083257   \n",
       "4       0.0  0.024546  0.014299  0.232297  0.342260  0.376559  0.726461   \n",
       "\n",
       "        PO4       PO8  \n",
       "0  0.056902  0.548755  \n",
       "1  0.031586  0.394355  \n",
       "2  0.440985  0.288672  \n",
       "3  0.485734  0.580981  \n",
       "4  0.066202  0.392638  "
      ]
     },
     "execution_count": 3,
     "metadata": {},
     "output_type": "execute_result"
    }
   ],
   "source": [
    "df.columns = ['severity', 'PO7', 'O1', 'PO3', 'Oz', 'Pz', 'O2', 'PO4', 'PO8']\n",
    "print(df.shape)\n",
    "df.head()"
   ]
  },
  {
   "cell_type": "code",
   "execution_count": 4,
   "metadata": {},
   "outputs": [
    {
     "data": {
      "image/png": "[encoded data removed]",
      "text/plain": [
       "<Figure size 640x480 with 1 Axes>"
      ]
     },
     "metadata": {},
     "output_type": "display_data"
    }
   ],
   "source": [
    "sns.boxplot(data=df[df['severity'] == 0][['PO7', 'O1', 'PO3', 'Oz', 'Pz', 'O2', 'PO4', 'PO8']], color='grey');"
   ]
  },
  {
   "cell_type": "code",
   "execution_count": 5,
   "metadata": {},
   "outputs": [
    {
     "data": {
      "image/png": "[encoded data removed]",
      "text/plain": [
       "<Figure size 640x480 with 1 Axes>"
      ]
     },
     "metadata": {},
     "output_type": "display_data"
    }
   ],
   "source": [
    "sns.boxplot(data=df[df['severity'] > 0.5][['PO7', 'O1', 'PO3', 'Oz', 'Pz', 'O2', 'PO4', 'PO8']], color='grey');"
   ]
  },
  {
   "cell_type": "code",
   "execution_count": null,
   "metadata": {},
   "outputs": [],
   "source": []
  }
 ],
 "metadata": {
  "kernelspec": {
   "display_name": "cvd",
   "language": "python",
   "name": "python3"
  },
  "language_info": {
   "codemirror_mode": {
    "name": "ipython",
    "version": 3
   },
   "file_extension": ".py",
   "mimetype": "text/x-python",
   "name": "python",
   "nbconvert_exporter": "python",
   "pygments_lexer": "ipython3",
   "version": "3.11.4"
  }
 },
 "nbformat": 4,
 "nbformat_minor": 2
}
