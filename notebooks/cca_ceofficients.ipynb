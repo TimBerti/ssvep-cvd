{
 "cells": [
  {
   "cell_type": "code",
   "execution_count": 1,
   "metadata": {},
   "outputs": [],
   "source": [
    "import pandas as pd\n",
    "import numpy as np\n",
    "import seaborn as sns\n",
    "import matplotlib.pyplot as plt\n",
    "plt.style.use('../images/style_sheet.mplstyle')\n",
    "\n",
    "import re\n",
    "import sys\n",
    "import os\n",
    "sys.path.append(os.path.abspath(os.path.join('..')))\n",
    "import utils.ssvep_analysis as sa"
   ]
  },
  {
   "cell_type": "code",
   "execution_count": 2,
   "metadata": {},
   "outputs": [],
   "source": [
    "def read_data(file_path):\n",
    "    df = pd.read_csv(file_path, skiprows=10, header=None)\n",
    "    with open(file_path, 'r') as file:\n",
    "        content = file.read()\n",
    "    match = re.search(r'Severity:\\s*(\\d+(\\.\\d+)?)', content)\n",
    "    severity = float(match.group(1))\n",
    "    eeg_data = df.to_numpy()[:, 1:9].astype(float)\n",
    "    return eeg_data, severity\n",
    "\n",
    "def preprocess_data(eeg_data):\n",
    "    eeg_data = sa.remove_artefacts(eeg_data)\n",
    "    eeg_data = sa.apply_ransac_detrending(eeg_data)\n",
    "    eeg_data = sa.apply_highpass_filter(eeg_data)\n",
    "    eeg_data = sa.apply_lowpass_filter(eeg_data)\n",
    "    eeg_data = sa.apply_notch_filter(eeg_data)\n",
    "    return eeg_data\n",
    "\n",
    "def process_file(file_path):\n",
    "    eeg_data, severity = read_data(file_path)\n",
    "    eeg_data = preprocess_data(eeg_data)\n",
    "    cca, _ = sa.compute_cca(eeg_data)\n",
    "    coefs = cca.coef_\n",
    "    coefs = np.sqrt(np.sum(coefs**2, axis=0))\n",
    "    coefs = coefs / np.sqrt(np.sum(coefs**2))\n",
    "    return [severity] + list(coefs)\n",
    "\n",
    "def process_directory(directory_path):\n",
    "    coefs_list = []\n",
    "    for filename in os.listdir(directory_path):\n",
    "        file_path = os.path.join(directory_path, filename)\n",
    "        coefs = process_file(file_path)\n",
    "        coefs_list.append(coefs)\n",
    "    df = pd.DataFrame(coefs_list)\n",
    "    return df\n",
    "\n",
    "def process_directory_list(directory_list):\n",
    "    df_list = []\n",
    "    for directory in directory_list:\n",
    "        df_list.append(process_directory('../data/' + directory))\n",
    "    df = pd.concat(df_list)\n",
    "    return df\n",
    "\n",
    "directory_list = ['2024-01-12', '2024-01-19', '2024-01-22']\n",
    "df = process_directory_list(directory_list)"
   ]
  },
  {
   "cell_type": "code",
   "execution_count": 3,
   "metadata": {},
   "outputs": [
    {
     "name": "stdout",
     "output_type": "stream",
     "text": [
      "(92, 9)\n"
     ]
    },
    {
     "data": {
      "text/html": [
       "<div>\n",
       "<style scoped>\n",
       "    .dataframe tbody tr th:only-of-type {\n",
       "        vertical-align: middle;\n",
       "    }\n",
       "\n",
       "    .dataframe tbody tr th {\n",
       "        vertical-align: top;\n",
       "    }\n",
       "\n",
       "    .dataframe thead th {\n",
       "        text-align: right;\n",
       "    }\n",
       "</style>\n",
       "<table border=\"1\" class=\"dataframe\">\n",
       "  <thead>\n",
       "    <tr style=\"text-align: right;\">\n",
       "      <th></th>\n",
       "      <th>severity</th>\n",
       "      <th>PO7</th>\n",
       "      <th>O1</th>\n",
       "      <th>PO3</th>\n",
       "      <th>Oz</th>\n",
       "      <th>Pz</th>\n",
       "      <th>O2</th>\n",
       "      <th>PO4</th>\n",
       "      <th>PO8</th>\n",
       "    </tr>\n",
       "  </thead>\n",
       "  <tbody>\n",
       "    <tr>\n",
       "      <th>0</th>\n",
       "      <td>0.00</td>\n",
       "      <td>0.044748</td>\n",
       "      <td>0.017411</td>\n",
       "      <td>0.429984</td>\n",
       "      <td>0.868821</td>\n",
       "      <td>0.174534</td>\n",
       "      <td>0.164347</td>\n",
       "      <td>0.005771</td>\n",
       "      <td>0.021297</td>\n",
       "    </tr>\n",
       "    <tr>\n",
       "      <th>1</th>\n",
       "      <td>0.93</td>\n",
       "      <td>0.063434</td>\n",
       "      <td>0.352057</td>\n",
       "      <td>0.004755</td>\n",
       "      <td>0.344646</td>\n",
       "      <td>0.070076</td>\n",
       "      <td>0.443344</td>\n",
       "      <td>0.307460</td>\n",
       "      <td>0.676190</td>\n",
       "    </tr>\n",
       "    <tr>\n",
       "      <th>2</th>\n",
       "      <td>0.79</td>\n",
       "      <td>0.078668</td>\n",
       "      <td>0.662371</td>\n",
       "      <td>0.014782</td>\n",
       "      <td>0.667696</td>\n",
       "      <td>0.168450</td>\n",
       "      <td>0.034281</td>\n",
       "      <td>0.255205</td>\n",
       "      <td>0.119830</td>\n",
       "    </tr>\n",
       "    <tr>\n",
       "      <th>3</th>\n",
       "      <td>0.00</td>\n",
       "      <td>0.052998</td>\n",
       "      <td>0.296972</td>\n",
       "      <td>0.521684</td>\n",
       "      <td>0.665741</td>\n",
       "      <td>0.152423</td>\n",
       "      <td>0.149142</td>\n",
       "      <td>0.005184</td>\n",
       "      <td>0.384878</td>\n",
       "    </tr>\n",
       "    <tr>\n",
       "      <th>4</th>\n",
       "      <td>0.00</td>\n",
       "      <td>0.104548</td>\n",
       "      <td>0.313521</td>\n",
       "      <td>0.399530</td>\n",
       "      <td>0.130926</td>\n",
       "      <td>0.091176</td>\n",
       "      <td>0.679190</td>\n",
       "      <td>0.021397</td>\n",
       "      <td>0.493902</td>\n",
       "    </tr>\n",
       "  </tbody>\n",
       "</table>\n",
       "</div>"
      ],
      "text/plain": [
       "   severity       PO7        O1       PO3        Oz        Pz        O2  \\\n",
       "0      0.00  0.044748  0.017411  0.429984  0.868821  0.174534  0.164347   \n",
       "1      0.93  0.063434  0.352057  0.004755  0.344646  0.070076  0.443344   \n",
       "2      0.79  0.078668  0.662371  0.014782  0.667696  0.168450  0.034281   \n",
       "3      0.00  0.052998  0.296972  0.521684  0.665741  0.152423  0.149142   \n",
       "4      0.00  0.104548  0.313521  0.399530  0.130926  0.091176  0.679190   \n",
       "\n",
       "        PO4       PO8  \n",
       "0  0.005771  0.021297  \n",
       "1  0.307460  0.676190  \n",
       "2  0.255205  0.119830  \n",
       "3  0.005184  0.384878  \n",
       "4  0.021397  0.493902  "
      ]
     },
     "execution_count": 3,
     "metadata": {},
     "output_type": "execute_result"
    }
   ],
   "source": [
    "df.columns = ['severity', 'PO7', 'O1', 'PO3', 'Oz', 'Pz', 'O2', 'PO4', 'PO8']\n",
    "print(df.shape)\n",
    "df.head()"
   ]
  },
  {
   "cell_type": "code",
   "execution_count": 4,
   "metadata": {},
   "outputs": [
    {
     "data": {
      "image/png": "[encoded data removed]",
      "text/plain": [
       "<Figure size 735x525 with 1 Axes>"
      ]
     },
     "metadata": {},
     "output_type": "display_data"
    }
   ],
   "source": [
    "sns.boxplot(data=df[df['severity'] == 0][['PO7', 'O1', 'PO3', 'Oz', 'Pz', 'O2', 'PO4', 'PO8']], color='grey');"
   ]
  },
  {
   "cell_type": "code",
   "execution_count": 7,
   "metadata": {},
   "outputs": [
    {
     "data": {
      "image/png": "[encoded data removed]",
      "text/plain": [
       "<Figure size 735x525 with 1 Axes>"
      ]
     },
     "metadata": {},
     "output_type": "display_data"
    }
   ],
   "source": [
    "sns.boxplot(data=df[df['severity'] > 0.5][['PO7', 'O1', 'PO3', 'Oz', 'Pz', 'O2', 'PO4', 'PO8']], color='grey')\n",
    "plt.xlabel('Channel')\n",
    "plt.ylabel('Canonical Correlation Coefficient')\n",
    "plt.savefig('../images/cca_coefficients.pdf', format='pdf')"
   ]
  },
  {
   "cell_type": "code",
   "execution_count": null,
   "metadata": {},
   "outputs": [],
   "source": []
  }
 ],
 "metadata": {
  "kernelspec": {
   "display_name": "cvd",
   "language": "python",
   "name": "python3"
  },
  "language_info": {
   "codemirror_mode": {
    "name": "ipython",
    "version": 3
   },
   "file_extension": ".py",
   "mimetype": "text/x-python",
   "name": "python",
   "nbconvert_exporter": "python",
   "pygments_lexer": "ipython3",
   "version": "3.11.7"
  }
 },
 "nbformat": 4,
 "nbformat_minor": 2
}
