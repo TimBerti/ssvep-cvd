{
 "cells": [
  {
   "cell_type": "code",
   "execution_count": 45,
   "metadata": {},
   "outputs": [],
   "source": [
    "import pandas as pd\n",
    "import numpy as np\n",
    "import seaborn as sns\n",
    "\n",
    "import re\n",
    "import sys\n",
    "import os\n",
    "sys.path.append(os.path.abspath(os.path.join('..')))\n",
    "import utils.ssvep_analysis as sa"
   ]
  },
  {
   "cell_type": "code",
   "execution_count": 46,
   "metadata": {},
   "outputs": [],
   "source": [
    "def read_data(file_path):\n",
    "    df = pd.read_csv(file_path, skiprows=10, header=None)\n",
    "    with open(file_path, 'r') as file:\n",
    "        content = file.read()\n",
    "    match = re.search(r'Severity:\\s*(\\d+(\\.\\d+)?)', content)\n",
    "    severity = float(match.group(1))\n",
    "    eeg_data = df.to_numpy()[:, 1:9].astype(float)\n",
    "    return eeg_data, severity\n",
    "\n",
    "def preprocess_data(eeg_data):\n",
    "    eeg_data = sa.apply_ransac_detrending(eeg_data)\n",
    "    eeg_data = sa.filter_extreme_values(eeg_data)\n",
    "    eeg_data = sa.apply_highpass_filter(eeg_data)\n",
    "    eeg_data = sa.apply_lowpass_filter(eeg_data)\n",
    "    eeg_data = sa.apply_notch_filter(eeg_data)\n",
    "    return eeg_data\n",
    "\n",
    "def process_file(file_path):\n",
    "    eeg_data, severity = read_data(file_path)\n",
    "    eeg_data = preprocess_data(eeg_data)\n",
    "    cca, _ = sa.compute_cca(eeg_data)\n",
    "    coefs = cca.coef_\n",
    "    coefs = np.sqrt(np.sum(coefs**2, axis=0))\n",
    "    coefs = coefs / np.sqrt(np.sum(coefs**2))\n",
    "    return [severity] + list(coefs)\n",
    "\n",
    "def process_directory(directory_path):\n",
    "    coefs_list = []\n",
    "    for filename in os.listdir(directory_path):\n",
    "        file_path = os.path.join(directory_path, filename)\n",
    "        coefs = process_file(file_path)\n",
    "        coefs_list.append(coefs)\n",
    "    df = pd.DataFrame(coefs_list)\n",
    "    return df\n",
    "\n",
    "def process_directory_list(directory_list):\n",
    "    df_list = []\n",
    "    for directory in directory_list:\n",
    "        df_list.append(process_directory('../data/' + directory))\n",
    "    df = pd.concat(df_list)\n",
    "    return df\n",
    "\n",
    "directory_list = ['2024-01-12', '2024-01-19', '2024-01-22']\n",
    "df = process_directory_list(directory_list)"
   ]
  },
  {
   "cell_type": "code",
   "execution_count": 47,
   "metadata": {},
   "outputs": [
    {
     "name": "stdout",
     "output_type": "stream",
     "text": [
      "(92, 9)\n"
     ]
    },
    {
     "data": {
      "text/html": [
       "<div>\n",
       "<style scoped>\n",
       "    .dataframe tbody tr th:only-of-type {\n",
       "        vertical-align: middle;\n",
       "    }\n",
       "\n",
       "    .dataframe tbody tr th {\n",
       "        vertical-align: top;\n",
       "    }\n",
       "\n",
       "    .dataframe thead th {\n",
       "        text-align: right;\n",
       "    }\n",
       "</style>\n",
       "<table border=\"1\" class=\"dataframe\">\n",
       "  <thead>\n",
       "    <tr style=\"text-align: right;\">\n",
       "      <th></th>\n",
       "      <th>severity</th>\n",
       "      <th>po7</th>\n",
       "      <th>o1</th>\n",
       "      <th>po3</th>\n",
       "      <th>oz</th>\n",
       "      <th>pz</th>\n",
       "      <th>o2</th>\n",
       "      <th>po4</th>\n",
       "      <th>po8</th>\n",
       "    </tr>\n",
       "  </thead>\n",
       "  <tbody>\n",
       "    <tr>\n",
       "      <th>0</th>\n",
       "      <td>0.0</td>\n",
       "      <td>0.049826</td>\n",
       "      <td>0.343302</td>\n",
       "      <td>0.083695</td>\n",
       "      <td>0.503495</td>\n",
       "      <td>0.219349</td>\n",
       "      <td>0.483078</td>\n",
       "      <td>0.185519</td>\n",
       "      <td>0.550685</td>\n",
       "    </tr>\n",
       "    <tr>\n",
       "      <th>1</th>\n",
       "      <td>0.0</td>\n",
       "      <td>0.029745</td>\n",
       "      <td>0.220299</td>\n",
       "      <td>0.545966</td>\n",
       "      <td>0.611138</td>\n",
       "      <td>0.025774</td>\n",
       "      <td>0.313211</td>\n",
       "      <td>0.084029</td>\n",
       "      <td>0.416161</td>\n",
       "    </tr>\n",
       "    <tr>\n",
       "      <th>2</th>\n",
       "      <td>0.0</td>\n",
       "      <td>0.008983</td>\n",
       "      <td>0.170308</td>\n",
       "      <td>0.201254</td>\n",
       "      <td>0.396554</td>\n",
       "      <td>0.310862</td>\n",
       "      <td>0.591535</td>\n",
       "      <td>0.215016</td>\n",
       "      <td>0.529505</td>\n",
       "    </tr>\n",
       "    <tr>\n",
       "      <th>3</th>\n",
       "      <td>0.0</td>\n",
       "      <td>0.103916</td>\n",
       "      <td>0.052359</td>\n",
       "      <td>0.231732</td>\n",
       "      <td>0.759389</td>\n",
       "      <td>0.251488</td>\n",
       "      <td>0.008775</td>\n",
       "      <td>0.176547</td>\n",
       "      <td>0.511466</td>\n",
       "    </tr>\n",
       "    <tr>\n",
       "      <th>4</th>\n",
       "      <td>0.0</td>\n",
       "      <td>0.051726</td>\n",
       "      <td>0.001987</td>\n",
       "      <td>0.190641</td>\n",
       "      <td>0.141942</td>\n",
       "      <td>0.262890</td>\n",
       "      <td>0.824212</td>\n",
       "      <td>0.062289</td>\n",
       "      <td>0.434179</td>\n",
       "    </tr>\n",
       "  </tbody>\n",
       "</table>\n",
       "</div>"
      ],
      "text/plain": [
       "   severity       po7        o1       po3        oz        pz        o2  \\\n",
       "0       0.0  0.049826  0.343302  0.083695  0.503495  0.219349  0.483078   \n",
       "1       0.0  0.029745  0.220299  0.545966  0.611138  0.025774  0.313211   \n",
       "2       0.0  0.008983  0.170308  0.201254  0.396554  0.310862  0.591535   \n",
       "3       0.0  0.103916  0.052359  0.231732  0.759389  0.251488  0.008775   \n",
       "4       0.0  0.051726  0.001987  0.190641  0.141942  0.262890  0.824212   \n",
       "\n",
       "        po4       po8  \n",
       "0  0.185519  0.550685  \n",
       "1  0.084029  0.416161  \n",
       "2  0.215016  0.529505  \n",
       "3  0.176547  0.511466  \n",
       "4  0.062289  0.434179  "
      ]
     },
     "execution_count": 47,
     "metadata": {},
     "output_type": "execute_result"
    }
   ],
   "source": [
    "df.columns = ['severity', 'po7', 'o1', 'po3', 'oz', 'pz', 'o2', 'po4', 'po8']\n",
    "print(df.shape)\n",
    "df.head()"
   ]
  },
  {
   "cell_type": "code",
   "execution_count": 51,
   "metadata": {},
   "outputs": [
    {
     "data": {
      "image/png": "[encoded data removed]",
      "text/plain": [
       "<Figure size 640x480 with 1 Axes>"
      ]
     },
     "metadata": {},
     "output_type": "display_data"
    }
   ],
   "source": [
    "sns.boxplot(data=df[df['severity'] == 0][['po7', 'o1', 'po3', 'oz', 'pz', 'o2', 'po4', 'po8']]);"
   ]
  },
  {
   "cell_type": "code",
   "execution_count": 52,
   "metadata": {},
   "outputs": [
    {
     "data": {
      "image/png": "[encoded data removed]",
      "text/plain": [
       "<Figure size 640x480 with 1 Axes>"
      ]
     },
     "metadata": {},
     "output_type": "display_data"
    }
   ],
   "source": [
    "sns.boxplot(data=df[df['severity'] > 0.5][['po7', 'o1', 'po3', 'oz', 'pz', 'o2', 'po4', 'po8']]);"
   ]
  },
  {
   "cell_type": "code",
   "execution_count": null,
   "metadata": {},
   "outputs": [],
   "source": []
  }
 ],
 "metadata": {
  "kernelspec": {
   "display_name": "cvd",
   "language": "python",
   "name": "python3"
  },
  "language_info": {
   "codemirror_mode": {
    "name": "ipython",
    "version": 3
   },
   "file_extension": ".py",
   "mimetype": "text/x-python",
   "name": "python",
   "nbconvert_exporter": "python",
   "pygments_lexer": "ipython3",
   "version": "3.11.4"
  }
 },
 "nbformat": 4,
 "nbformat_minor": 2
}
