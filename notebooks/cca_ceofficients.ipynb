{
 "cells": [
  {
   "cell_type": "code",
   "execution_count": 1,
   "metadata": {},
   "outputs": [],
   "source": [
    "import re\n",
    "import pandas as pd\n",
    "import numpy as np\n",
    "\n",
    "import os\n",
    "import sys\n",
    "sys.path.append(os.path.join(os.path.abspath(''), '..'))\n",
    "import utils.ssvep_analysis as sa"
   ]
  },
  {
   "cell_type": "code",
   "execution_count": 2,
   "metadata": {},
   "outputs": [],
   "source": [
    "file_path = '../Data/2023-12-03/Marco_Deuteranomaly_0.0_mixed-deuteranomaly-series_frequency_16.5_tile-size144_90993c02-de06-4745-8fb8-c4ecbeaebe08.csv'\n",
    "df = pd.read_csv(file_path, skiprows=10, header=None)\n",
    "\n",
    "with open(file_path, 'r') as file:\n",
    "    content = file.read()\n",
    "    \n",
    "match = re.search(r'Frequency:\\s*(\\d+(\\.\\d+)?)', content)\n",
    "stimulus_frequency = float(match.group(1)) if match else None\n",
    "\n",
    "eeg_data = df.to_numpy()[:, 1:9].astype(float)\n",
    "marker = df.to_numpy()[:, -1].flatten()\n",
    "\n",
    "sa.update_default_stimulus_frequency(stimulus_frequency)"
   ]
  },
  {
   "cell_type": "code",
   "execution_count": null,
   "metadata": {},
   "outputs": [],
   "source": []
  }
 ],
 "metadata": {
  "kernelspec": {
   "display_name": "cvd",
   "language": "python",
   "name": "python3"
  },
  "language_info": {
   "codemirror_mode": {
    "name": "ipython",
    "version": 3
   },
   "file_extension": ".py",
   "mimetype": "text/x-python",
   "name": "python",
   "nbconvert_exporter": "python",
   "pygments_lexer": "ipython3",
   "version": "3.11.4"
  }
 },
 "nbformat": 4,
 "nbformat_minor": 2
}
