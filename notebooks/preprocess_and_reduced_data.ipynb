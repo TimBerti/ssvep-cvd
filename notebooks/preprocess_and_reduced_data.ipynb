{
 "cells": [
  {
   "cell_type": "code",
   "execution_count": 7,
   "metadata": {},
   "outputs": [],
   "source": [
    "import re\n",
    "import os\n",
    "import pandas as pd\n",
    "import numpy as np\n",
    "\n",
    "import sys\n",
    "sys.path.append(os.path.join(os.path.abspath(''), '..'))\n",
    "import utils.ssvep_analysis as sa"
   ]
  },
  {
   "cell_type": "code",
   "execution_count": 8,
   "metadata": {},
   "outputs": [
    {
     "name": "stdout",
     "output_type": "stream",
     "text": [
      "Train: (86, 7213) (86,)\n",
      "Test: (254, 7213) (254,)\n",
      "CVD: (69, 7213) (69,)\n"
     ]
    }
   ],
   "source": [
    "def read_data(file_path):\n",
    "    df = pd.read_csv(file_path, skiprows=10, header=None)\n",
    "    with open(file_path, 'r') as file:\n",
    "        content = file.read()\n",
    "    match = re.search(r'Severity:\\s*(\\d+(\\.\\d+)?)', content)\n",
    "    severity = float(match.group(1))\n",
    "    match = re.search(r'Subject:\\s*(\\S+)', content)\n",
    "    subject = str(match.group(1))\n",
    "    match = re.search(r'Series:\\s*(\\S+)', content)\n",
    "    series = str(match.group(1))\n",
    "    marker = df.to_numpy()[:, -1]\n",
    "    eeg_data = df.to_numpy()[:, 1:9].astype(float)\n",
    "    return eeg_data, marker, severity, subject, series\n",
    "\n",
    "def preprocess_data(eeg_data, marker):\n",
    "    eeg_data = sa.remove_artefacts(eeg_data)\n",
    "    eeg_data = sa.apply_ransac_detrending(eeg_data,)\n",
    "    eeg_data = sa.apply_bandpass_filter(eeg_data, lowcut=14, highcut=35)\n",
    "    eeg_data = sa.apply_notch_filter(eeg_data)\n",
    "    eeg_data, _ = sa.compute_reduced_signal(eeg_data)\n",
    "\n",
    "    start = np.argwhere(marker != 'grey')[0][0]\n",
    "    end = np.argwhere(marker != 'grey')[-1][0]\n",
    "    return eeg_data[start:end]\n",
    "\n",
    "def build_dataset(directory_list):\n",
    "    X = []\n",
    "    y = []\n",
    "    groups = []\n",
    "    severities = []\n",
    "    max_len = 0\n",
    "    for directory in directory_list:\n",
    "        for file in os.listdir('../data/' + directory):\n",
    "            file_path = '../data/' + directory + '/' + file\n",
    "            eeg_data, marker, severity, subject, series = read_data(file_path)\n",
    "            if series != 'multicolor-deuteranomaly-series' or eeg_data.shape[0] < 7000:\n",
    "                continue\n",
    "            eeg_data = preprocess_data(eeg_data, marker)\n",
    "            X.append(eeg_data)\n",
    "            y.append(0 if severity == 0 else 1)\n",
    "            groups.append(subject)\n",
    "            severities.append(severity)\n",
    "            max_len = max(max_len, eeg_data.shape[0])\n",
    "    return X, np.array(y), np.array(groups), np.array(severities), max_len\n",
    "\n",
    "def zero_pad(X, max_len):\n",
    "    for i in range(len(X)):\n",
    "        if len(X[i]) < max_len:\n",
    "            X[i] = np.concatenate((X[i], np.zeros(max_len - len(X[i]))))\n",
    "        else:\n",
    "            X[i] = X[i][:max_len]\n",
    "    return np.array(X)\n",
    "\n",
    "\n",
    "directory_list_train = ['2024-01-12', '2024-01-22', '2024-03-04-Schroedi', '2024-03-08-Schwein', '2024-03-14-Daddy', '2024-03-08-Happy', '2024-03-23-Maracuja', '2024-03-07-Tomate', '2024-03-07-Badewanne']\n",
    "X_train, y_train, groups_train, severities_train, max_len_train = build_dataset(directory_list_train)\n",
    "\n",
    "directory_list_test = ['2024-01-19', '2024-03-25-Lillifee', '2024-03-04-Gurke']\n",
    "X_test, y_test, groups_test, severities_test, max_len_test = build_dataset(directory_list_test)\n",
    "\n",
    "directory_list_cvd = ['2024-03-06-Jens', '2024-03-15-Wert', '2024-03-15-Fisch']\n",
    "X_cvd, y_cvd, groups_cvd, severities_cvd, max_len_cvd = build_dataset(directory_list_cvd)\n",
    "\n",
    "max_len = max(max_len_train, max_len_test, max_len_cvd)\n",
    "X_train = zero_pad(X_train, max_len)\n",
    "X_test = zero_pad(X_test, max_len)\n",
    "X_cvd = zero_pad(X_cvd, max_len)\n",
    "\n",
    "print('Train:', X_test.shape, y_test.shape)\n",
    "print('Test:', X_train.shape, y_train.shape)\n",
    "print('CVD:', X_cvd.shape, y_cvd.shape)"
   ]
  },
  {
   "cell_type": "code",
   "execution_count": 9,
   "metadata": {},
   "outputs": [],
   "source": [
    "np.save('../data/X_train.npy', X_train)\n",
    "np.save('../data/y_train.npy', y_train)\n",
    "np.save('../data/groups_train.npy', groups_train)\n",
    "np.save('../data/severities_train.npy', severities_train)\n",
    "\n",
    "np.save('../data/X_test.npy', X_test)\n",
    "np.save('../data/y_test.npy', y_test)\n",
    "np.save('../data/groups_test.npy', groups_test)\n",
    "np.save('../data/severities_test.npy', severities_test)\n",
    "\n",
    "np.save('../data/X_cvd.npy', X_cvd)\n",
    "np.save('../data/y_cvd.npy', y_cvd)\n",
    "np.save('../data/groups_cvd.npy', groups_cvd)\n",
    "np.save('../data/severities_cvd.npy', severities_cvd)"
   ]
  }
 ],
 "metadata": {
  "kernelspec": {
   "display_name": "p11",
   "language": "python",
   "name": "python3"
  },
  "language_info": {
   "codemirror_mode": {
    "name": "ipython",
    "version": 3
   },
   "file_extension": ".py",
   "mimetype": "text/x-python",
   "name": "python",
   "nbconvert_exporter": "python",
   "pygments_lexer": "ipython3",
   "version": "3.11.7"
  }
 },
 "nbformat": 4,
 "nbformat_minor": 2
}
