{
 "cells": [
  {
   "cell_type": "code",
   "execution_count": 1,
   "metadata": {},
   "outputs": [],
   "source": [
    "import random\n",
    "import numpy as np\n",
    "from math import ceil"
   ]
  },
  {
   "cell_type": "code",
   "execution_count": 2,
   "metadata": {},
   "outputs": [
    {
     "data": {
      "text/plain": [
       "[0.67,\n",
       " 0.68,\n",
       " 0.64,\n",
       " 0.63,\n",
       " 0.66,\n",
       " 0.64,\n",
       " 0.85,\n",
       " 0.83,\n",
       " 0.83,\n",
       " 0.89,\n",
       " 0.78,\n",
       " 0.77,\n",
       " 0.74,\n",
       " 0.77,\n",
       " 0.89]"
      ]
     },
     "execution_count": 2,
     "metadata": {},
     "output_type": "execute_result"
    }
   ],
   "source": [
    "n_numbers = 15\n",
    "n_bins = 5\n",
    "x_range = (0.6, 0.9)\n",
    "\n",
    "bin_width = (x_range[1] - x_range[0]) / n_bins\n",
    "bin_arr = list(range(n_bins)) * ceil(n_numbers / n_bins)\n",
    "random.shuffle(bin_arr)\n",
    "numbers = [np.round(random.uniform(x_range[0] + bin_width * i, x_range[0] + bin_width * (i + 1)), 2) for i in bin_arr[:n_numbers]]\n",
    "numbers"
   ]
  },
  {
   "cell_type": "code",
   "execution_count": null,
   "metadata": {},
   "outputs": [],
   "source": []
  }
 ],
 "metadata": {
  "kernelspec": {
   "display_name": "cvd",
   "language": "python",
   "name": "python3"
  },
  "language_info": {
   "codemirror_mode": {
    "name": "ipython",
    "version": 3
   },
   "file_extension": ".py",
   "mimetype": "text/x-python",
   "name": "python",
   "nbconvert_exporter": "python",
   "pygments_lexer": "ipython3",
   "version": "3.11.7"
  }
 },
 "nbformat": 4,
 "nbformat_minor": 2
}
